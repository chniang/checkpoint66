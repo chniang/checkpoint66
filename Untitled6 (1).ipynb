{
 "cells": [
  {
   "cell_type": "code",
   "execution_count": 24,
   "id": "3a6c1ec9-2829-42e7-ba96-f9f079afbd6c",
   "metadata": {},
   "outputs": [
    {
     "name": "stdin",
     "output_type": "stream",
     "text": [
      "Entrez le premier nombre :  7\n",
      "Entrez le deuxième nombre :  6\n",
      "Saisissez votre opérateur de calcul (+, -, *, /) :  /\n"
     ]
    },
    {
     "name": "stdout",
     "output_type": "stream",
     "text": [
      "Le résultat de votre calcul est : 1.1666666666666667\n"
     ]
    }
   ],
   "source": [
    "def calculatrice(num1, num2):\n",
    "    operateur = \"\"  # Initialisation de l'opérateur\n",
    "    while operateur not in [\"+\", \"-\", \"*\", \"/\"]:\n",
    "        operateur = input(\"Saisissez votre opérateur de calcul (+, -, *, /) : \")\n",
    "\n",
    "    if operateur == \"+\":\n",
    "        resultat = num1 + num2\n",
    "    elif operateur == \"-\":\n",
    "        resultat = num1 - num2\n",
    "    elif operateur == \"*\":\n",
    "        resultat = num1 * num2\n",
    "    elif operateur == \"/\":\n",
    "        resultat = num1 / num2\n",
    "    else:\n",
    "        resultat = \"Opérateur invalide\"\n",
    "\n",
    "    print(\"Le résultat de votre calcul est :\", resultat)\n",
    "\n",
    "# Demander les nombres à l'utilisateur\n",
    "num1 = float(input(\"Entrez le premier nombre : \"))\n",
    "num2 = float(input(\"Entrez le deuxième nombre : \"))\n",
    "\n",
    "# Appel de la fonction\n",
    "calculatrice(num1, num2)\n",
    "nouvelle_partie = int(input(\"entrer 1 pour recommencer et un autre entier pour quitter\"))\n",
    "if nouvelle_partie == 1:\n",
    "    num1 = float(input(\"Entrez le premier nombre : \"))\n",
    "    num2 = float(input(\"Entrez le deuxième nombre : \"))\n",
    "    calculatrice(num1,num2)\n",
    "else:\n",
    "    print(\"merci a bientot\")\n",
    "\n"
   ]
  }
 ],
 "metadata": {
  "kernelspec": {
   "display_name": "Python 3 (ipykernel)",
   "language": "python",
   "name": "python3"
  },
  "language_info": {
   "codemirror_mode": {
    "name": "ipython",
    "version": 3
   },
   "file_extension": ".py",
   "mimetype": "text/x-python",
   "name": "python",
   "nbconvert_exporter": "python",
   "pygments_lexer": "ipython3",
   "version": "3.12.4"
  }
 },
 "nbformat": 4,
 "nbformat_minor": 5
}
